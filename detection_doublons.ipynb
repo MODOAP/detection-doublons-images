{
  "nbformat": 4,
  "nbformat_minor": 0,
  "metadata": {
    "colab": {
      "name": "detection_doublons.ipynb",
      "provenance": [],
      "collapsed_sections": []
    },
    "kernelspec": {
      "name": "python3",
      "display_name": "Python 3"
    },
    "language_info": {
      "name": "python"
    },
    "accelerator": "GPU"
  },
  "cells": [
    {
      "cell_type": "markdown",
      "metadata": {
        "id": "3lf9t-fGKG0H"
      },
      "source": [
        "# ModOAP - Repérage de doublons images\n",
        "\n",
        "Ce script permet de repérer des doublons au sein d'un corpus d'images.\n",
        "\n",
        "Le corpus est attendu sous la forme d'un dossier sur un Google Drive contenant directement les fichiers images. \n",
        "\n",
        "Le script implémente la version CNN de la bibliothèque Imagededup : https://github.com/idealo/imagededup\n",
        "(Tanuj Jain and Christopher Lennan and Zubin John and Dat Tran, 2019 )\n",
        "\n",
        "**Ce carnet doit être exécuté dans un environnement GPU : Exécution -> Modifier le type d'exécution -> GPU**\n"
      ]
    },
    {
      "cell_type": "code",
      "metadata": {
        "id": "df85xRn3mqMI",
        "outputId": "c095d78c-0e23-4b4f-e59f-169f34bd4988",
        "colab": {
          "base_uri": "https://localhost:8080/"
        },
        "cellView": "form"
      },
      "source": [
        "#@markdown # Préparation du script et synchronisation d'un Google Drive\n",
        "\n",
        "#@markdown Lancer cette cellule, puis cliquer sur le lien généré par Google pour connecter un compte Drive si demandé.\n",
        "\n",
        "#@markdown Il est nécessaire de relancer l'environnement d'exécution et de relancer la cellule si précisé. \n",
        "\n",
        "# chargement d'un google drive\n",
        "\n",
        "import os\n",
        "from google.colab import drive\n",
        "\n",
        "if not os.path.exists(\"/content/drive/My Drive\"):\n",
        "  drive.mount('/content/drive')\n",
        "else : print(\"Le Drive est déjà monté\")\n",
        "\n",
        "try :\n",
        "  from imagededup.methods import CNN, PHash, DHash, AHash, WHash\n",
        "except ModuleNotFoundError :\n",
        "  !pip install imagededup\n",
        "  from imagededup.methods import CNN, PHash, DHash, AHash, WHash\n",
        "\n"
      ],
      "execution_count": 1,
      "outputs": [
        {
          "output_type": "stream",
          "name": "stdout",
          "text": [
            "Le Drive est déjà monté\n"
          ]
        }
      ]
    },
    {
      "cell_type": "code",
      "metadata": {
        "id": "ojzzjIFjpqOm",
        "cellView": "form"
      },
      "source": [
        "#@markdown # Repérage de doublons\n",
        "\n",
        "#@markdown Cette cellule génère un fichier liste_doublons.txt dans le dossier du corpus\n",
        "\n",
        "\n",
        "\n",
        "#@markdown Spécifier le chemin vers le dossier contenant les fichiers images :\n",
        "\n",
        "chemin_corpus = \"/content/drive/MyDrive/ModOAP/Outils_Modoap/Similarite/test\"#@param {type:\"string\"}\n",
        "\n",
        "#@markdown Spécifier le seuil de similarité attendu (un nombre décimal entre 0 et 1) :\n",
        "\n",
        "seuil_similarite = 0.85 #@param {type:\"slider\", min:0, max:1, step:0.05}\n",
        "\n",
        "\n",
        "cnn = CNN()\n",
        "duplicates = cnn.find_duplicates(image_dir=chemin_corpus, scores=True, min_similarity_threshold=seuil_similarite)\n",
        "\n",
        "\n",
        "\n",
        "with open(os.path.join(chemin_corpus,\"liste_doublons.txt\"), \"w\") as res :\n",
        "  res.write(\"Doublons repérés dans le dossier {} \\n\".format(chemin_corpus))\n",
        "  for entry, dups in duplicates.items() :\n",
        "    if duplicates[entry]:\n",
        "      res.write(\"---------------------------------------------\\n\")\n",
        "      res.write(\"Image source :\\n\")\n",
        "      res.write(entry+\"\\n\")\n",
        "      res.write(\"Doublons :\\n\")\n",
        "      for dup in dups :\n",
        "        res.write(dup[0]+\"\\n\")\n",
        "      res.write(\"---------------------------------------------\\n\")\n",
        "\n",
        "print(\"La liste des doublons a été générée dans le fichier \",os.path.join(chemin_corpus,\"liste_doublons.txt\"))"
      ],
      "execution_count": null,
      "outputs": []
    },
    {
      "cell_type": "code",
      "metadata": {
        "id": "W8InewUipqRg",
        "cellView": "form"
      },
      "source": [
        "#@markdown # Visualisation des doublons\n",
        "\n",
        "#@markdown Cette cellule permet de visualiser les doublons repérés\n",
        "\n",
        "from imagededup.utils import plot_duplicates\n",
        "for k in duplicates :\n",
        "  try : \n",
        "\n",
        "    if duplicates[k] :\n",
        "      print(\"Doublon repéré : \",k,\" -> \",duplicates[k])\n",
        "    plot_duplicates(image_dir=\"/content/drive/MyDrive/ModOAP/Outils_Modoap/MonumenTal/testdedup\",\n",
        "                    duplicate_map=duplicates,\n",
        "                    filename=k)\n",
        "    print(\"-------------------------------------------\")\n",
        "  except AssertionError : \n",
        "    pass"
      ],
      "execution_count": null,
      "outputs": []
    },
    {
      "cell_type": "markdown",
      "source": [
        "## ***Encodage et calcul de distances spécifiques***"
      ],
      "metadata": {
        "id": "qnWyf8qKgPLm"
      }
    },
    {
      "cell_type": "code",
      "source": [
        "#@markdown # Encodage des images du corpus\n",
        "\n",
        "#@markdown Cette cellule génère un dictionnaire nommé encodings avec une clé par fichier image du corpus associée à son vecteur numpy\n",
        "\n",
        "#@markdown Spécifier le chemin vers le dossier contenant les fichiers images (au format jpg ou changer le code) :\n",
        "\n",
        "chemin_corpus = \"\"#@param {type:\"string\"}\n",
        "\n",
        "encodings = CNN().encode_images(image_dir=chemin_corpus)\n",
        "\n",
        "print(\"Le dictionnaire encodings a été généré\")"
      ],
      "metadata": {
        "cellView": "form",
        "id": "6Hd3IXCUgPxp"
      },
      "execution_count": null,
      "outputs": []
    },
    {
      "cell_type": "code",
      "source": [
        "encodings"
      ],
      "metadata": {
        "id": "4H-sKS9hgUyO"
      },
      "execution_count": null,
      "outputs": []
    },
    {
      "cell_type": "code",
      "source": [
        "import glob\n",
        "from scipy.spatial import distance\n",
        "from datetime import datetime\n",
        "\n",
        "#@markdown # Calcul des distances 1\n",
        "\n",
        "#@markdown Cacluler les distances entre les images au sein du corpus. \n",
        "\n",
        "#@markdown Cette cellule génère un fichier CSV avec les distances entre chaque image.\n",
        "\n",
        "#@markdown Spécifier le type de calcul de la distance :\n",
        "type_distance = \"euclidean\" #@param [\"euclidean\", \"canberra\", \"cityblock\", \"cosine\"]\n",
        "\n",
        "\n",
        "now = datetime.now()\n",
        "fichier_out = os.path.join(chemin_corpus,\"resultat_sim_\"+str(now)+\"_\"+type_distance+\".csv\").replace(\" \",\"_\")\n",
        "with open(fichier_out, \"w\") as csv_out :\n",
        "  csv_out.write(\"image_source;image_cible;distance_{}\\n\".format(type_distance))\n",
        "  for k,v in encodings.items() :\n",
        "    for k2,v2 in encodings.items() :\n",
        "      if k != k2 :\n",
        "        if type_distance == \"cosine\" :\n",
        "          csv_out.write(str(k)+\";\"+str(k2)+\";\"+str(distance.cosine(v, v2))+\"\\n\")\n",
        "        elif type_distance == \"euclidean\" :\n",
        "          csv_out.write(str(k)+\";\"+str(k2)+\";\"+str(distance.euclidean(v, v2))+\"\\n\")\n",
        "        if type_distance == \"canberra\" :\n",
        "          csv_out.write(str(k)+\";\"+str(k2)+\";\"+str(distance.canberra(v, v2))+\"\\n\")\n",
        "        if type_distance == \"cityblock\" :\n",
        "          csv_out.write(str(k)+\";\"+str(k2)+\";\"+str(distance.cityblock(v, v2))+\"\\n\") \n",
        "print(\"Le fichier {} contenant les résultats a été généré\".format(fichier_out))\n"
      ],
      "metadata": {
        "cellView": "form",
        "id": "pBMxLhNqgU2e"
      },
      "execution_count": null,
      "outputs": []
    },
    {
      "cell_type": "code",
      "source": [
        "import glob\n",
        "from scipy.spatial import distance\n",
        "from datetime import datetime\n",
        "\n",
        "#@markdown # Calcul des distances 2\n",
        "\n",
        "#@markdown Cacluler les distances entre les images du corpus et les images d'un dossier extérieur au corpus. \n",
        "\n",
        "#@markdown Cette cellule génère un fichier CSV avec les distances entre chaque image.\n",
        "\n",
        "#@markdown Spécifier le dossier contenant une ou plusieurs images extérieures au corpus :\n",
        "corpus_ext = \"\"#@param {type:\"string\"}\n",
        "#@markdown Spécifier le type de calcul de la distance :\n",
        "type_distance = \"euclidean\" #@param [\"euclidean\", \"canberra\", \"cityblock\", \"cosine\"]\n",
        "images_requetes = glob.glob(os.path.join(corpus_ext,\"*.jpg\"))\n",
        "\n",
        "now = datetime.now()\n",
        "fichier_out = os.path.join(corpus_ext,\"resultat_sim_\"+str(now)+\"_\"+type_distance+\".csv\").replace(\" \",\"_\")\n",
        "with open(fichier_out, \"w\") as csv_out :\n",
        "  csv_out.write(\"image_source;image_cible;distance_{}\\n\".format(type_distance))\n",
        "  for img_req in images_requetes :\n",
        "    encoding1 = CNN().encode_image(image_file=img_req)\n",
        "    for k,v in encodings.items() :\n",
        "      if type_distance == \"cosine\" :\n",
        "        csv_out.write(str(img_req)+\";\"+str(k)+\";\"+str(distance.cosine(encoding1, v))+\"\\n\")\n",
        "      elif type_distance == \"euclidean\" :\n",
        "        csv_out.write(str(img_req)+\";\"+str(k)+\";\"+str(distance.euclidean(encoding1, v))+\"\\n\")\n",
        "      if type_distance == \"canberra\" :\n",
        "        csv_out.write(str(img_req)+\";\"+str(k)+\";\"+str(distance.canberra(encoding1, v))+\"\\n\")\n",
        "      if type_distance == \"cityblock\" :\n",
        "        csv_out.write(str(img_req)+\";\"+str(k)+\";\"+str(distance.cityblock(encoding1, v))+\"\\n\") \n",
        "print(\"Le fichier {} contenant les résultats a été généré\".format(fichier_out))"
      ],
      "metadata": {
        "cellView": "form",
        "id": "Wn5vtAj8gU0N"
      },
      "execution_count": null,
      "outputs": []
    }
  ]
}
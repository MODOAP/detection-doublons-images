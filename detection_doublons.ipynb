{
  "nbformat": 4,
  "nbformat_minor": 0,
  "metadata": {
    "colab": {
      "name": "detection_doublons.ipynb",
      "provenance": [],
      "collapsed_sections": []
    },
    "kernelspec": {
      "name": "python3",
      "display_name": "Python 3"
    },
    "language_info": {
      "name": "python"
    },
    "accelerator": "GPU"
  },
  "cells": [
    {
      "cell_type": "markdown",
      "metadata": {
        "id": "3lf9t-fGKG0H"
      },
      "source": [
        "# ModOAP - Repérage de doublons images\n",
        "\n",
        "Ce script permet de repérer des doublons au sein d'un corpus d'images.\n",
        "\n",
        "Le corpus est attendu sous la forme d'un dossier sur un Google Drive contenant directement les fichiers images. \n",
        "\n",
        "Le script implémente la version CNN de la bibliothèque Imagededup : https://github.com/idealo/imagededup\n",
        "(Tanuj Jain and Christopher Lennan and Zubin John and Dat Tran, 2019 )\n",
        "\n",
        "**Ce carnet doit être exécuté dans un environnement GPU : Exécution -> Modifier le type d'exécution -> GPU**\n"
      ]
    },
    {
      "cell_type": "code",
      "metadata": {
        "id": "df85xRn3mqMI",
        "cellView": "form"
      },
      "source": [
        "#@markdown # Préparation du script et synchronisation d'un Google Drive\n",
        "\n",
        "#@markdown Lancer cette cellule, puis cliquer sur le lien généré par Google pour connecter un compte Drive si demandé.\n",
        "\n",
        "#@markdown Il est nécessaire de relancer l'environnement d'exécution et de relancer la cellule si précisé. \n",
        "\n",
        "# chargement d'un google drive\n",
        "\n",
        "import os\n",
        "from google.colab import drive\n",
        "\n",
        "if not os.path.exists(\"/content/drive/My Drive\"):\n",
        "  drive.mount('/content/drive')\n",
        "else : print(\"Le Drive est déjà monté\")\n",
        "\n",
        "try :\n",
        "  from imagededup.methods import CNN, PHash, DHash, AHash, WHash\n",
        "except ModuleNotFoundError :\n",
        "  !pip install imagededup\n",
        "  from imagededup.methods import CNN, PHash, DHash, AHash, WHash\n",
        "\n"
      ],
      "execution_count": null,
      "outputs": []
    },
    {
      "cell_type": "code",
      "metadata": {
        "id": "ojzzjIFjpqOm",
        "cellView": "form"
      },
      "source": [
        "#@markdown # Repérage de doublons\n",
        "\n",
        "#@markdown Cette cellule génère un fichier liste_doublons.txt dans le dossier du corpus\n",
        "\n",
        "\n",
        "\n",
        "#@markdown Spécifier le chemin vers le dossier contenant les fichiers images :\n",
        "\n",
        "chemin_corpus = \"\"#@param {type:\"string\"}\n",
        "\n",
        "#@markdown Spécifier le seuil de similarité attendu (un nombre décimal entre 0 et 1) :\n",
        "\n",
        "seuil_similarite = 0.85 #@param {type:\"slider\", min:0, max:1, step:0.05}\n",
        "\n",
        "\n",
        "cnn = CNN()\n",
        "duplicates = cnn.find_duplicates(image_dir=chemin_corpus, scores=True, min_similarity_threshold=seuil_similarite)\n",
        "\n",
        "\n",
        "\n",
        "with open(os.path.join(chemin_corpus,\"liste_doublons.txt\"), \"w\") as res :\n",
        "  res.write(\"Doublons repérés dans le dossier {} \\n\".format(chemin_corpus))\n",
        "  for entry, dups in duplicates.items() :\n",
        "    if duplicates[entry]:\n",
        "      res.write(\"---------------------------------------------\\n\")\n",
        "      res.write(\"Image source :\\n\")\n",
        "      res.write(entry+\"\\n\")\n",
        "      res.write(\"Doublons :\\n\")\n",
        "      for dup in dups :\n",
        "        res.write(dup[0]+\"\\n\")\n",
        "      res.write(\"---------------------------------------------\\n\")\n",
        "\n",
        "print(\"La liste des doublons a été générée dans le fichier \",os.path.join(chemin_corpus,\"liste_doublons.txt\"))"
      ],
      "execution_count": null,
      "outputs": []
    },
    {
      "cell_type": "code",
      "metadata": {
        "id": "W8InewUipqRg",
        "cellView": "form"
      },
      "source": [
        "#@markdown # Visualisation des doublons\n",
        "\n",
        "#@markdown Cette cellule permet de visualiser les doublons repérés\n",
        "\n",
        "from imagededup.utils import plot_duplicates\n",
        "for k in duplicates :\n",
        "  try : \n",
        "\n",
        "    if duplicates[k] :\n",
        "      print(\"Doublon repéré : \",k,\" -> \",duplicates[k])\n",
        "    plot_duplicates(image_dir=\"/content/drive/MyDrive/ModOAP/Outils_Modoap/MonumenTal/testdedup\",\n",
        "                    duplicate_map=duplicates,\n",
        "                    filename=k)\n",
        "    print(\"-------------------------------------------\")\n",
        "  except AssertionError : \n",
        "    pass"
      ],
      "execution_count": null,
      "outputs": []
    }
  ]
}